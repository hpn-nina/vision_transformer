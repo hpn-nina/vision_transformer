{
  "nbformat": 4,
  "nbformat_minor": 0,
  "metadata": {
    "colab": {
      "name": "Vision-Emotion.ipynb",
      "provenance": [],
      "machine_shape": "hm",
      "authorship_tag": "ABX9TyPwfE8ZitR+2vgrzVWkRb9Y",
      "include_colab_link": true
    },
    "kernelspec": {
      "name": "python3",
      "display_name": "Python 3"
    },
    "language_info": {
      "name": "python"
    },
    "accelerator": "GPU"
  },
  "cells": [
    {
      "cell_type": "markdown",
      "metadata": {
        "id": "view-in-github",
        "colab_type": "text"
      },
      "source": [
        "<a href=\"https://colab.research.google.com/github/lialic/vision_transformer/blob/main/Vision_Emotion.ipynb\" target=\"_parent\"><img src=\"https://colab.research.google.com/assets/colab-badge.svg\" alt=\"Open In Colab\"/></a>"
      ]
    },
    {
      "cell_type": "markdown",
      "source": [
        "# Vision Transformer on Emotion Detection\n",
        "\n",
        "## Emotion Detection dataset\n",
        "Link: https://www.kaggle.com/ananthu017/emotion-detection-fer?select=train \\\n",
        "Number of categories: 7\\\n",
        "Images data: 48x48 gray scale, around 34,000 images.\n",
        "## Vision Transformer\n",
        "About the ViT used in this project, it is has been pretrained by Google on the JFT-300M dataset and only work pretty well on larger dataset, so as a medium dataset, let find out how it gonna come through.\\\n",
        "A bit of the introduction on Vision Transformer, there are 3 main parts of it: Linear Projection, Encoder and Classification head. The first and last one are all Dense layer but has different kind of operation on it while the Encoder may included several building block which contains Norm Layer, Multi-head Self-attention Layer and Residual skip connection, and these block has vertically stack together.\n"
      ],
      "metadata": {
        "id": "agYi1ey_g7X6"
      }
    },
    {
      "cell_type": "code",
      "execution_count": null,
      "metadata": {
        "id": "DORqp7JZe-zL"
      },
      "outputs": [],
      "source": [
        "import numpy as np\n",
        "import pandas as pd\n",
        "import tensorflow as tf"
      ]
    },
    {
      "cell_type": "code",
      "source": [
        "from google.colab import drive\n",
        "drive.mount('/content/drive', force_remount=True)"
      ],
      "metadata": {
        "colab": {
          "base_uri": "https://localhost:8080/"
        },
        "id": "LI8f269jhs6t",
        "outputId": "f4bf2a77-3008-403b-cf45-8eeb92204db1"
      },
      "execution_count": null,
      "outputs": [
        {
          "output_type": "stream",
          "name": "stdout",
          "text": [
            "Mounted at /content/drive\n"
          ]
        }
      ]
    },
    {
      "cell_type": "code",
      "source": [
        "import matplotlib.pyplot as plt\n",
        "from google.colab.patches import cv2_imshow"
      ],
      "metadata": {
        "id": "SAdOSSg6jYMc"
      },
      "execution_count": null,
      "outputs": []
    },
    {
      "cell_type": "code",
      "source": [
        "# Clone repository and pull latest changes.\n",
        "![ -d ./vision_transformer ] || git clone --depth=1 https://github.com/lialic/vision_transformer\n",
        "!cd vision_transformer && git pull"
      ],
      "metadata": {
        "colab": {
          "base_uri": "https://localhost:8080/"
        },
        "id": "bBNdfO9qjbRG",
        "outputId": "51f42cb8-378f-49a6-cbb0-7e6681d99032"
      },
      "execution_count": null,
      "outputs": [
        {
          "output_type": "stream",
          "name": "stdout",
          "text": [
            "Cloning into 'vision_transformer'...\n",
            "remote: Enumerating objects: 37, done.\u001b[K\n",
            "remote: Counting objects: 100% (37/37), done.\u001b[K\n",
            "remote: Compressing objects: 100% (34/34), done.\u001b[K\n",
            "remote: Total 37 (delta 4), reused 19 (delta 1), pack-reused 0\u001b[K\n",
            "Unpacking objects: 100% (37/37), done.\n",
            "Already up to date.\n"
          ]
        }
      ]
    },
    {
      "cell_type": "code",
      "source": [
        "# Install requirements of model\n",
        "!pip install -qr ./vision_transformer/vit_jax/requirements.txt"
      ],
      "metadata": {
        "colab": {
          "base_uri": "https://localhost:8080/"
        },
        "id": "_ghTk43AjeBU",
        "outputId": "32a63f85-14ff-4235-8008-662ec740f2e1"
      },
      "execution_count": null,
      "outputs": [
        {
          "output_type": "stream",
          "name": "stdout",
          "text": [
            "\u001b[?25l\r\u001b[K     |█████                           | 10 kB 29.5 MB/s eta 0:00:01\r\u001b[K     |██████████                      | 20 kB 30.4 MB/s eta 0:00:01\r\u001b[K     |███████████████                 | 30 kB 18.0 MB/s eta 0:00:01\r\u001b[K     |████████████████████▏           | 40 kB 15.4 MB/s eta 0:00:01\r\u001b[K     |█████████████████████████▏      | 51 kB 8.4 MB/s eta 0:00:01\r\u001b[K     |██████████████████████████████▏ | 61 kB 8.8 MB/s eta 0:00:01\r\u001b[K     |████████████████████████████████| 65 kB 2.8 MB/s \n",
            "\u001b[?25h\u001b[?25l\r\u001b[K     |████▏                           | 10 kB 41.0 MB/s eta 0:00:01\r\u001b[K     |████████▍                       | 20 kB 43.4 MB/s eta 0:00:01\r\u001b[K     |████████████▋                   | 30 kB 53.4 MB/s eta 0:00:01\r\u001b[K     |████████████████▉               | 40 kB 61.4 MB/s eta 0:00:01\r\u001b[K     |█████████████████████           | 51 kB 67.0 MB/s eta 0:00:01\r\u001b[K     |█████████████████████████▎      | 61 kB 73.8 MB/s eta 0:00:01\r\u001b[K     |█████████████████████████████▌  | 71 kB 77.4 MB/s eta 0:00:01\r\u001b[K     |████████████████████████████████| 77 kB 8.5 MB/s \n",
            "\u001b[K     |████████████████████████████████| 207 kB 5.1 MB/s \n",
            "\u001b[K     |████████████████████████████████| 88 kB 9.4 MB/s \n",
            "\u001b[K     |████████████████████████████████| 179.8 MB 52 kB/s \n",
            "\u001b[K     |████████████████████████████████| 126 kB 78.7 MB/s \n",
            "\u001b[?25h"
          ]
        }
      ]
    },
    {
      "cell_type": "code",
      "source": [
        "from absl import logging\n",
        "import flax\n",
        "import jax\n",
        "import tqdm\n",
        "\n",
        "logging.set_verbosity(logging.INFO)\n",
        "\n",
        "# Shows the number of available devices.\n",
        "# In a CPU/GPU runtime this will be a single device.\n",
        "# In a TPU runtime this will be 8 cores.\n",
        "jax.local_devices()"
      ],
      "metadata": {
        "colab": {
          "base_uri": "https://localhost:8080/"
        },
        "id": "Amo9GMVAjiFi",
        "outputId": "96cd02ff-b8f1-4fd9-de55-d120062eea7b"
      },
      "execution_count": null,
      "outputs": [
        {
          "output_type": "stream",
          "name": "stderr",
          "text": [
            "INFO:absl:Unable to initialize backend 'tpu_driver': NOT_FOUND: Unable to find driver in registry given worker: \n",
            "INFO:absl:Unable to initialize backend 'tpu': INVALID_ARGUMENT: TpuPlatform is not available.\n"
          ]
        },
        {
          "output_type": "execute_result",
          "data": {
            "text/plain": [
              "[GpuDevice(id=0, process_index=0)]"
            ]
          },
          "metadata": {},
          "execution_count": 5
        }
      ]
    },
    {
      "cell_type": "code",
      "source": [
        "vit_path = './vision_transformer/vit_jax/'\n",
        "from google.colab import files\n",
        "\n",
        "# Open all files in vision_transformer configutarion to the side \n",
        "files.view(vit_path + 'configs/common.py')\n",
        "files.view(vit_path + 'configs/models.py')\n",
        "files.view(vit_path + 'checkpoint.py')\n",
        "files.view(vit_path + 'input_pipeline.py')\n",
        "files.view(vit_path + 'models.py')\n",
        "files.view(vit_path + 'momentum_clip.py')\n",
        "files.view(vit_path + 'train.py')"
      ],
      "metadata": {
        "colab": {
          "base_uri": "https://localhost:8080/",
          "height": 17
        },
        "id": "sFmVpnnFjkQN",
        "outputId": "71318fd5-395b-4d11-a360-9f494ef7ad3a"
      },
      "execution_count": null,
      "outputs": [
        {
          "output_type": "display_data",
          "data": {
            "application/javascript": [
              "\n",
              "      ((filepath) => {{\n",
              "        if (!google.colab.kernel.accessAllowed) {{\n",
              "          return;\n",
              "        }}\n",
              "        google.colab.files.view(filepath);\n",
              "      }})(\"/content/vision_transformer/vit_jax/configs/common.py\")"
            ],
            "text/plain": [
              "<IPython.core.display.Javascript object>"
            ]
          },
          "metadata": {}
        },
        {
          "output_type": "display_data",
          "data": {
            "application/javascript": [
              "\n",
              "      ((filepath) => {{\n",
              "        if (!google.colab.kernel.accessAllowed) {{\n",
              "          return;\n",
              "        }}\n",
              "        google.colab.files.view(filepath);\n",
              "      }})(\"/content/vision_transformer/vit_jax/configs/models.py\")"
            ],
            "text/plain": [
              "<IPython.core.display.Javascript object>"
            ]
          },
          "metadata": {}
        },
        {
          "output_type": "display_data",
          "data": {
            "application/javascript": [
              "\n",
              "      ((filepath) => {{\n",
              "        if (!google.colab.kernel.accessAllowed) {{\n",
              "          return;\n",
              "        }}\n",
              "        google.colab.files.view(filepath);\n",
              "      }})(\"/content/vision_transformer/vit_jax/checkpoint.py\")"
            ],
            "text/plain": [
              "<IPython.core.display.Javascript object>"
            ]
          },
          "metadata": {}
        },
        {
          "output_type": "display_data",
          "data": {
            "application/javascript": [
              "\n",
              "      ((filepath) => {{\n",
              "        if (!google.colab.kernel.accessAllowed) {{\n",
              "          return;\n",
              "        }}\n",
              "        google.colab.files.view(filepath);\n",
              "      }})(\"/content/vision_transformer/vit_jax/input_pipeline.py\")"
            ],
            "text/plain": [
              "<IPython.core.display.Javascript object>"
            ]
          },
          "metadata": {}
        },
        {
          "output_type": "display_data",
          "data": {
            "application/javascript": [
              "\n",
              "      ((filepath) => {{\n",
              "        if (!google.colab.kernel.accessAllowed) {{\n",
              "          return;\n",
              "        }}\n",
              "        google.colab.files.view(filepath);\n",
              "      }})(\"/content/vision_transformer/vit_jax/models.py\")"
            ],
            "text/plain": [
              "<IPython.core.display.Javascript object>"
            ]
          },
          "metadata": {}
        },
        {
          "output_type": "display_data",
          "data": {
            "application/javascript": [
              "\n",
              "      ((filepath) => {{\n",
              "        if (!google.colab.kernel.accessAllowed) {{\n",
              "          return;\n",
              "        }}\n",
              "        google.colab.files.view(filepath);\n",
              "      }})(\"/content/vision_transformer/vit_jax/momentum_clip.py\")"
            ],
            "text/plain": [
              "<IPython.core.display.Javascript object>"
            ]
          },
          "metadata": {}
        },
        {
          "output_type": "display_data",
          "data": {
            "application/javascript": [
              "\n",
              "      ((filepath) => {{\n",
              "        if (!google.colab.kernel.accessAllowed) {{\n",
              "          return;\n",
              "        }}\n",
              "        google.colab.files.view(filepath);\n",
              "      }})(\"/content/vision_transformer/vit_jax/train.py\")"
            ],
            "text/plain": [
              "<IPython.core.display.Javascript object>"
            ]
          },
          "metadata": {}
        }
      ]
    },
    {
      "cell_type": "code",
      "source": [
        "# Show all the available pre-trained models\n",
        "!gsutil ls -lh gs://vit_models/imagenet*\n",
        "!gsutil ls -lh gs://vit_models/sam"
      ],
      "metadata": {
        "colab": {
          "base_uri": "https://localhost:8080/"
        },
        "id": "4Vgd47QVjniY",
        "outputId": "51e1ae50-9b95-4f75-8d91-da2407bd6813"
      },
      "execution_count": null,
      "outputs": [
        {
          "output_type": "stream",
          "name": "stdout",
          "text": [
            "gs://vit_models/imagenet21k+imagenet2012/:\n",
            "377.57 MiB  2020-11-30T16:17:02Z  gs://vit_models/imagenet21k+imagenet2012/R50+ViT-B_16.npz\n",
            "330.29 MiB  2020-10-29T17:05:52Z  gs://vit_models/imagenet21k+imagenet2012/ViT-B_16-224.npz\n",
            " 331.4 MiB  2020-10-20T11:48:22Z  gs://vit_models/imagenet21k+imagenet2012/ViT-B_16.npz\n",
            "336.89 MiB  2020-10-20T11:47:36Z  gs://vit_models/imagenet21k+imagenet2012/ViT-B_32.npz\n",
            "334.78 MiB  2021-03-12T09:04:16Z  gs://vit_models/imagenet21k+imagenet2012/ViT-B_8.npz\n",
            "  1.13 GiB  2020-10-29T17:08:31Z  gs://vit_models/imagenet21k+imagenet2012/ViT-L_16-224.npz\n",
            "  1.14 GiB  2020-10-20T11:53:44Z  gs://vit_models/imagenet21k+imagenet2012/ViT-L_16.npz\n",
            "  1.14 GiB  2020-10-20T11:50:56Z  gs://vit_models/imagenet21k+imagenet2012/ViT-L_32.npz\n",
            "\n",
            "gs://vit_models/imagenet21k/:\n",
            "450.23 MiB  2021-01-20T14:12:43Z  gs://vit_models/imagenet21k/R26+ViT-B_32.npz\n",
            "439.85 MiB  2020-11-30T10:10:15Z  gs://vit_models/imagenet21k/R50+ViT-B_16.npz\n",
            "  1.31 GiB  2021-01-20T14:11:54Z  gs://vit_models/imagenet21k/R50+ViT-L_32.npz\n",
            "393.69 MiB  2020-10-22T21:38:39Z  gs://vit_models/imagenet21k/ViT-B_16.npz\n",
            "400.01 MiB  2020-11-02T08:30:56Z  gs://vit_models/imagenet21k/ViT-B_32.npz\n",
            "393.72 MiB  2021-03-10T13:28:28Z  gs://vit_models/imagenet21k/ViT-B_8.npz\n",
            "  2.46 GiB  2020-11-03T10:46:11Z  gs://vit_models/imagenet21k/ViT-H_14.npz\n",
            "  1.22 GiB  2020-11-09T14:39:51Z  gs://vit_models/imagenet21k/ViT-L_16.npz\n",
            "  1.23 GiB  2020-11-02T08:35:10Z  gs://vit_models/imagenet21k/ViT-L_32.npz\n",
            "TOTAL: 17 objects, 14306096550 bytes (13.32 GiB)\n",
            " 330.3 MiB  2021-07-13T19:39:09Z  gs://vit_models/sam/ViT-B_16.npz\n",
            "336.61 MiB  2021-07-13T19:39:10Z  gs://vit_models/sam/ViT-B_32.npz\n",
            "  1.13 GiB  2021-07-13T19:39:38Z  gs://vit_models/sam/ViT-L_16.npz\n",
            "  1.14 GiB  2021-07-13T19:39:38Z  gs://vit_models/sam/ViT-L_32.npz\n",
            "TOTAL: 4 objects, 3143025464 bytes (2.93 GiB)\n"
          ]
        }
      ]
    },
    {
      "cell_type": "code",
      "source": [
        "import os\n",
        "model_name = 'ViT-L_16'\n",
        "![ -e \"$model_name\".npz ] || gsutil cp gs://vit_models/imagenet21k/\"$model_name\".npz .\n",
        "\n",
        "# # If the file does not exist in the path then tell\n",
        "assert os.path.exists(f'{model_name}.npz')"
      ],
      "metadata": {
        "colab": {
          "base_uri": "https://localhost:8080/"
        },
        "id": "mJRUOJrOjpIl",
        "outputId": "88903b53-78c2-4b47-f7fc-06473c40d808"
      },
      "execution_count": null,
      "outputs": [
        {
          "output_type": "stream",
          "name": "stdout",
          "text": [
            "Copying gs://vit_models/imagenet21k/ViT-L_16.npz...\n",
            "\\ [1 files][  1.2 GiB/  1.2 GiB]   58.0 MiB/s                                   \n",
            "Operation completed over 1 objects/1.2 GiB.                                      \n"
          ]
        }
      ]
    },
    {
      "cell_type": "code",
      "source": [
        "# Import some of the configs of Google from the opened files\n",
        "import sys\n",
        "import os \n",
        "\n",
        "if './vision_transformer' not in sys.path: # Move to the vision transformer folder\n",
        "  sys.path.append('./vision_transformer')\n",
        "\n",
        "%load_ext autoreload\n",
        "%autoreload 2\n",
        "\n",
        "import jax\n",
        "from vit_jax import checkpoint\n",
        "from vit_jax import input_pipeline\n",
        "from vit_jax import utils\n",
        "from vit_jax import models\n",
        "from vit_jax import momentum_clip\n",
        "from vit_jax import train\n",
        "from vit_jax.configs import common as common_config\n",
        "from vit_jax.configs import models as models_config"
      ],
      "metadata": {
        "id": "0hDD377rjuDj"
      },
      "execution_count": null,
      "outputs": []
    },
    {
      "cell_type": "code",
      "source": [
        "import shutil\n",
        "path = '/content/drive/MyDrive/Data/Emotion/' # path to all the zip files\n",
        "\n",
        "data_path = '/content/emotion'\n",
        "os.mkdir(data_path)\n",
        "\n",
        "\n",
        "shutil.unpack_archive(path+'train.zip', data_path, format='zip')\n",
        "shutil.unpack_archive(path+'test.zip', data_path, format='zip')"
      ],
      "metadata": {
        "id": "Bfc2oGB1jvEs"
      },
      "execution_count": null,
      "outputs": []
    },
    {
      "cell_type": "code",
      "source": [
        "emotion = 'emotion' # Setting in common.py\n",
        "\n",
        "config = common_config.with_dataset(common_config.get_config(), emotion)\n",
        "num_classes = input_pipeline.get_dataset_info(emotion, 'train')['num_classes']\n",
        "num_classes"
      ],
      "metadata": {
        "colab": {
          "base_uri": "https://localhost:8080/"
        },
        "id": "PbD-XikGj09U",
        "outputId": "2143c24c-9a3b-4c72-9cf9-90cb0ed998ff"
      },
      "execution_count": null,
      "outputs": [
        {
          "output_type": "execute_result",
          "data": {
            "text/plain": [
              "7"
            ]
          },
          "metadata": {},
          "execution_count": 14
        }
      ]
    },
    {
      "cell_type": "code",
      "source": [
        "input_pipeline.get_dataset_info(emotion, 'train')"
      ],
      "metadata": {
        "colab": {
          "base_uri": "https://localhost:8080/"
        },
        "id": "L6OpCs5hV_xo",
        "outputId": "a8977ec6-15a3-4c4d-eb17-9a32b793e0ab"
      },
      "execution_count": null,
      "outputs": [
        {
          "output_type": "execute_result",
          "data": {
            "text/plain": [
              "{'examples_glob': '/content/emotion/train/*/*.png',\n",
              " 'int2str': <function vit_jax.input_pipeline.get_directory_info.<locals>.<lambda>>,\n",
              " 'num_classes': 7,\n",
              " 'num_examples': 28709}"
            ]
          },
          "metadata": {},
          "execution_count": 16
        }
      ]
    },
    {
      "cell_type": "code",
      "source": [
        "input_pipeline.get_dataset_info(emotion, 'test')"
      ],
      "metadata": {
        "colab": {
          "base_uri": "https://localhost:8080/"
        },
        "id": "85diqdstXmt6",
        "outputId": "49eb4abb-3de5-41c8-bb9d-28b2be1d75e3"
      },
      "execution_count": null,
      "outputs": [
        {
          "output_type": "stream",
          "name": "stdout",
          "text": [
            "/content/emotion/test\n"
          ]
        },
        {
          "output_type": "execute_result",
          "data": {
            "text/plain": [
              "{'examples_glob': '/content/emotion/test/*/*.png',\n",
              " 'int2str': <function vit_jax.input_pipeline.get_directory_info.<locals>.<lambda>>,\n",
              " 'num_classes': 7,\n",
              " 'num_examples': 7178}"
            ]
          },
          "metadata": {},
          "execution_count": 19
        }
      ]
    },
    {
      "cell_type": "code",
      "source": [
        "config.batch_size = 64\n",
        "config.pp.crop = 224\n",
        "\n",
        "train_ds = input_pipeline.get_data_from_directory(config=config, directory=data_path, mode='train')\n",
        "test_ds = input_pipeline.get_data_from_directory(config=config, directory=data_path, mode='test')"
      ],
      "metadata": {
        "colab": {
          "base_uri": "https://localhost:8080/"
        },
        "id": "bmMxY3ROXofM",
        "outputId": "3d24d1cd-bef7-4136-e9f5-a2d218e2cf9f"
      },
      "execution_count": null,
      "outputs": [
        {
          "output_type": "stream",
          "name": "stdout",
          "text": [
            "/content/emotion/train\n",
            "/content/emotion/test\n"
          ]
        }
      ]
    },
    {
      "cell_type": "code",
      "source": [
        "label_names = ['buildings', 'forest', 'glacier', 'mountain', 'sea', 'street']\n",
        "# Helper functions for images.\n",
        "\n",
        "labelnames = dict(\n",
        "  # https://www.cs.toronto.edu/~kriz/cifar.html\n",
        "  cifar10=('airplane', 'automobile', 'bird', 'cat', 'deer', 'dog', 'frog', 'horse', 'ship', 'truck'),\n",
        "  # https://www.cs.toronto.edu/~kriz/cifar.html\n",
        "  cifar100=('apple', 'aquarium_fish', 'baby', 'bear', 'beaver', 'bed', 'bee', 'beetle', 'bicycle', 'bottle', 'bowl', 'boy', 'bridge', 'bus', 'butterfly', 'camel', 'can', 'castle', 'caterpillar', 'cattle', 'chair', 'chimpanzee', 'clock', 'cloud', 'cockroach', 'couch', 'crab', 'crocodile', 'cup', 'dinosaur', 'dolphin', 'elephant', 'flatfish', 'forest', 'fox', 'girl', 'hamster', 'house', 'kangaroo', 'computer_keyboard', 'lamp', 'lawn_mower', 'leopard', 'lion', 'lizard', 'lobster', 'man', 'maple_tree', 'motorcycle', 'mountain', 'mouse', 'mushroom', 'oak_tree', 'orange', 'orchid', 'otter', 'palm_tree', 'pear', 'pickup_truck', 'pine_tree', 'plain', 'plate', 'poppy', 'porcupine', 'possum', 'rabbit', 'raccoon', 'ray', 'road', 'rocket', 'rose', 'sea', 'seal', 'shark', 'shrew', 'skunk', 'skyscraper', 'snail', 'snake', 'spider', 'squirrel', 'streetcar', 'sunflower', 'sweet_pepper', 'table', 'tank', 'telephone', 'television', 'tiger', 'tractor', 'train', 'trout', 'tulip', 'turtle', 'wardrobe', 'whale', 'willow_tree', 'wolf', 'woman', 'worm')\n",
        "  , intel = ('buildings', 'forest', 'glacier', 'mountain', 'sea', 'street')\n",
        "  , emotion = ('angry', 'disgusted', 'fearful', 'happy', 'neutral', 'sad', 'suprised')\n",
        ")\n",
        "def make_label_getter(dataset):\n",
        "  \"\"\"Returns a function converting label indices to names.\"\"\"\n",
        "  def getter(label):\n",
        "    if dataset in labelnames:\n",
        "      return labelnames[dataset][label]\n",
        "    return f'label={label}'\n",
        "  return getter\n",
        "\n",
        "def show_img(img, ax=None, title=None):\n",
        "  \"\"\"Shows a single image.\"\"\"\n",
        "  if ax is None:\n",
        "    ax = plt.gca()\n",
        "  ax.imshow(img[...])\n",
        "  ax.set_xticks([])\n",
        "  ax.set_yticks([])\n",
        "  if title:\n",
        "    ax.set_title(title)\n",
        "\n",
        "def show_img_grid(imgs, titles):\n",
        "  \"\"\"Shows a grid of images.\"\"\"\n",
        "  n = int(np.ceil(len(imgs)**.5))\n",
        "  _, axs = plt.subplots(n, n, figsize=(3 * n, 3 * n))\n",
        "  for i, (img, title) in enumerate(zip(imgs, titles)):\n",
        "    img = (img + 1) / 2  # Denormalize\n",
        "    show_img(img, axs[i // n][i % n], title)"
      ],
      "metadata": {
        "id": "-P1xZ7yWYlT0"
      },
      "execution_count": null,
      "outputs": []
    },
    {
      "cell_type": "code",
      "source": [
        "# The image is 48x48 gray scale \n",
        "# but in the auto crop process, it has been modified into 224 and 3 channels\n",
        "batch = next(iter(train_ds.as_numpy_iterator()))\n",
        "batch['image'].shape"
      ],
      "metadata": {
        "colab": {
          "base_uri": "https://localhost:8080/"
        },
        "id": "Z6eXQozSY1zZ",
        "outputId": "9a192c26-13db-4d07-d7e8-fd74703acdff"
      },
      "execution_count": null,
      "outputs": [
        {
          "output_type": "execute_result",
          "data": {
            "text/plain": [
              "(1, 512, 224, 224, 3)"
            ]
          },
          "metadata": {},
          "execution_count": 22
        }
      ]
    },
    {
      "cell_type": "code",
      "source": [
        "images, labels = batch['image'][0][:6], batch['label'][0][:6]\n",
        "titles = map(make_label_getter('emotion'), labels.argmax(axis=1))\n",
        "show_img_grid(images, titles)"
      ],
      "metadata": {
        "colab": {
          "base_uri": "https://localhost:8080/",
          "height": 553
        },
        "id": "QaIWA1NgY-6-",
        "outputId": "8e24d829-adc9-481e-cae6-81602f2b02a6"
      },
      "execution_count": null,
      "outputs": [
        {
          "output_type": "display_data",
          "data": {
            "image/png": "[encoded data removed]",
            "text/plain": [
              "<Figure size 648x648 with 9 Axes>"
            ]
          },
          "metadata": {
            "needs_background": "light"
          }
        }
      ]
    },
    {
      "cell_type": "code",
      "source": [
        "model_config = models_config.MODEL_CONFIGS[model_name]\n",
        "model_config"
      ],
      "metadata": {
        "colab": {
          "base_uri": "https://localhost:8080/"
        },
        "id": "6qdeU7UoZMWq",
        "outputId": "5ced6a3f-ecd2-4b26-d207-c090e475fe5e"
      },
      "execution_count": null,
      "outputs": [
        {
          "output_type": "execute_result",
          "data": {
            "text/plain": [
              "classifier: token\n",
              "hidden_size: 1024\n",
              "name: ViT-L_16\n",
              "patches:\n",
              "  size: !!python/tuple\n",
              "  - 16\n",
              "  - 16\n",
              "representation_size: null\n",
              "transformer:\n",
              "  attention_dropout_rate: 0.0\n",
              "  dropout_rate: 0.1\n",
              "  mlp_dim: 4096\n",
              "  num_heads: 16\n",
              "  num_layers: 24"
            ]
          },
          "metadata": {},
          "execution_count": 27
        }
      ]
    },
    {
      "cell_type": "code",
      "source": [
        "# Load model definition & initialize random parameters.\n",
        "# This also compiles the model to XLA (takes some minutes the first time).\n",
        "# Here I am defining model for intel image classification\n",
        "\n",
        "model = models.VisionTransformer(num_classes=num_classes, **model_config)\n",
        "\n",
        "variables = jax.jit(lambda: model.init(\n",
        "    jax.random.PRNGKey(0),\n",
        "    # Discard the \"num_local_devices\" dimension of the batch for initialization.\n",
        "    batch['image'][0, :1],\n",
        "    train=False,\n",
        "), backend='cpu')()"
      ],
      "metadata": {
        "id": "H7g5EJF_ZOdK"
      },
      "execution_count": null,
      "outputs": []
    },
    {
      "cell_type": "code",
      "source": [
        "# Load and convert pretrained checkpoint.\n",
        "# This involves loading the actual pre-trained model results, but then also also\n",
        "# modifying the parameters a bit, e.g. changing the final layers, and resizing\n",
        "# the positional embeddings.\n",
        "# For details, refer to the code and to the methods of the paper.\n",
        "params = checkpoint.load_pretrained(\n",
        "    pretrained_path=f'{model_name}.npz',\n",
        "    init_params=variables['params'],\n",
        "    model_config=model_config,\n",
        ")"
      ],
      "metadata": {
        "colab": {
          "base_uri": "https://localhost:8080/"
        },
        "id": "aLpOIwRvZRJF",
        "outputId": "65d5e2e8-9ce9-4f30-f21e-b4bbce3955cc"
      },
      "execution_count": null,
      "outputs": [
        {
          "output_type": "stream",
          "name": "stderr",
          "text": [
            "INFO:absl:Inspect extra keys:\n",
            "{'pre_logits/kernel', 'pre_logits/bias'}\n",
            "INFO:absl:load_pretrained: drop-head variant\n"
          ]
        }
      ]
    },
    {
      "cell_type": "markdown",
      "source": [
        "## Evaluate on random initialization"
      ],
      "metadata": {
        "id": "Jp3AgMLUZVVt"
      }
    },
    {
      "cell_type": "code",
      "source": [
        "import flax\n",
        "import jax\n",
        "import tqdm\n",
        "# So far, all our data is in the host memory. Let's now replicate the arrays\n",
        "# into the devices.\n",
        "# This will make every array in the pytree params become a ShardedDeviceArray\n",
        "# that has the same data replicated across all local devices.\n",
        "# For TPU it replicates the params in every core.\n",
        "# For a single GPU this simply moves the data onto the device.\n",
        "# For CPU it simply creates a copy.\n",
        "params_repl = flax.jax_utils.replicate(params)\n",
        "print('params.cls:', type(params['head']['bias']).__name__,\n",
        "      params['head']['bias'].shape)\n",
        "print('params_repl.cls:', type(params_repl['head']['bias']).__name__,\n",
        "      params_repl['head']['bias'].shape)"
      ],
      "metadata": {
        "colab": {
          "base_uri": "https://localhost:8080/"
        },
        "id": "5dJ1T8tIZSUa",
        "outputId": "1ff9ded4-2ad5-44e4-9c4c-58cdc7080957"
      },
      "execution_count": null,
      "outputs": [
        {
          "output_type": "stream",
          "name": "stdout",
          "text": [
            "params.cls: DeviceArray (7,)\n",
            "params_repl.cls: _ShardedDeviceArray (1, 7)\n"
          ]
        }
      ]
    },
    {
      "cell_type": "code",
      "source": [
        "for (keys, values) in params_repl.items():\n",
        "    print(keys)\n",
        "    if(keys != 'cls'):\n",
        "        for(key, value) in params_repl[keys].items():\n",
        "            print(f'\\t {key}')"
      ],
      "metadata": {
        "colab": {
          "base_uri": "https://localhost:8080/"
        },
        "id": "Z43oAfF9ZZO3",
        "outputId": "40befe9f-0540-4d6b-f6c3-5b6b709ba88d"
      },
      "execution_count": null,
      "outputs": [
        {
          "output_type": "stream",
          "name": "stdout",
          "text": [
            "Transformer\n",
            "\t encoder_norm\n",
            "\t encoderblock_0\n",
            "\t encoderblock_1\n",
            "\t encoderblock_10\n",
            "\t encoderblock_11\n",
            "\t encoderblock_12\n",
            "\t encoderblock_13\n",
            "\t encoderblock_14\n",
            "\t encoderblock_15\n",
            "\t encoderblock_16\n",
            "\t encoderblock_17\n",
            "\t encoderblock_18\n",
            "\t encoderblock_19\n",
            "\t encoderblock_2\n",
            "\t encoderblock_20\n",
            "\t encoderblock_21\n",
            "\t encoderblock_22\n",
            "\t encoderblock_23\n",
            "\t encoderblock_3\n",
            "\t encoderblock_4\n",
            "\t encoderblock_5\n",
            "\t encoderblock_6\n",
            "\t encoderblock_7\n",
            "\t encoderblock_8\n",
            "\t encoderblock_9\n",
            "\t posembed_input\n",
            "cls\n",
            "embedding\n",
            "\t bias\n",
            "\t kernel\n",
            "head\n",
            "\t bias\n",
            "\t kernel\n"
          ]
        }
      ]
    },
    {
      "cell_type": "code",
      "source": [
        "# Then map the call to our model's forward pass onto all available devices.\n",
        "vit_apply_repl = jax.pmap(lambda params, inputs: model.apply(\n",
        "    dict(params=params), inputs, train=False))"
      ],
      "metadata": {
        "id": "nefqm2R-ZcLO"
      },
      "execution_count": null,
      "outputs": []
    },
    {
      "cell_type": "code",
      "source": [
        "def get_accuracy(params_repl):\n",
        "    \"\"\"Returns accuracy evaluated on the test set.\"\"\"\n",
        "    good = total = 0\n",
        "\n",
        "    # Number of times it going to run until loading all the first batch in\n",
        "    steps = input_pipeline.get_dataset_info(dataset, 'test')['num_examples'] // batch_size\n",
        "\n",
        "    for _, batch in zip(tqdm.trange(steps), ds_test.as_numpy_iterator()):\n",
        "        predicted = vit_apply_repl(params_repl, batch['image'])\n",
        "\n",
        "        pred_label = predicted.argmax(axis=-1)\n",
        "        true_label = batch['label'].argmax(axis=-1)\n",
        "\n",
        "\n",
        "        is_same = pred_label == true_label\n",
        "        good += is_same.sum()\n",
        "        total += len(is_same.flatten())\n",
        "    return good / total, good, total"
      ],
      "metadata": {
        "id": "ztgHZAT_ZeFv"
      },
      "execution_count": null,
      "outputs": []
    },
    {
      "cell_type": "code",
      "source": [
        "dataset = 'emotion'\n",
        "ds_test = test_ds\n",
        "ds_train = train_ds\n",
        "batch_size = 512"
      ],
      "metadata": {
        "id": "9CsFPu9xZhCm"
      },
      "execution_count": null,
      "outputs": []
    },
    {
      "cell_type": "code",
      "source": [
        "# Random performance without fine-tuning.\n",
        "acc, good, total = get_accuracy(params_repl)"
      ],
      "metadata": {
        "colab": {
          "base_uri": "https://localhost:8080/"
        },
        "id": "F5u06JTValXC",
        "outputId": "d1ccc4c3-6cc5-4e86-d361-77eeef34e323"
      },
      "execution_count": null,
      "outputs": [
        {
          "output_type": "stream",
          "name": "stderr",
          "text": [
            " 12%|█▎        | 14/112 [02:26<17:08, 10.49s/it]\n"
          ]
        }
      ]
    },
    {
      "cell_type": "markdown",
      "source": [
        "## Fine tune"
      ],
      "metadata": {
        "id": "VcEQXyWvZt9Z"
      }
    },
    {
      "cell_type": "code",
      "source": [
        "# 100 Steps take approximately 15 minutes in the TPU runtime.\n",
        "total_steps = 100\n",
        "warmup_steps = 5\n",
        "decay_type = 'cosine'\n",
        "grad_norm_clip = 1\n",
        "# This controls in how many forward passes the batch is split. 8 works well with\n",
        "# a TPU runtime that has 8 devices. 64 should work on a GPU. You can of course\n",
        "# also adjust the batch_size above, but that would require you to adjust the\n",
        "# learning rate accordingly.\n",
        "accum_steps = 64\n",
        "base_lr = 0.03"
      ],
      "metadata": {
        "id": "b79aJwXlZtBI"
      },
      "execution_count": null,
      "outputs": []
    },
    {
      "cell_type": "code",
      "source": [
        "# Check out train.make_update_fn in the editor on the right side for details.\n",
        "lr_fn = utils.create_learning_rate_schedule(total_steps, base_lr, decay_type, warmup_steps)\n",
        "update_fn_repl = train.make_update_fn(\n",
        "    apply_fn=model.apply, accum_steps=accum_steps, lr_fn=lr_fn)\n",
        "# We use a momentum optimizer that uses half precision for state to save\n",
        "# memory. It als implements the gradient clipping.\n",
        "opt = momentum_clip.Optimizer(grad_norm_clip=grad_norm_clip).create(params)\n",
        "opt_repl = flax.jax_utils.replicate(opt)"
      ],
      "metadata": {
        "id": "lmpOpYr4cZyB"
      },
      "execution_count": null,
      "outputs": []
    },
    {
      "cell_type": "code",
      "source": [
        "# Initialize PRNGs for dropout.\n",
        "update_rng_repl = flax.jax_utils.replicate(jax.random.PRNGKey(0))"
      ],
      "metadata": {
        "id": "ObeSQgSEcdAp"
      },
      "execution_count": null,
      "outputs": []
    },
    {
      "cell_type": "code",
      "source": [
        "# ViT-L/16 loss graph\n",
        "losses = []\n",
        "lrs = []\n",
        "# Completes in ~20 min on the TPU runtime.\n",
        "for step, batch in zip(\n",
        "    tqdm.trange(1, total_steps + 1),\n",
        "    ds_train.as_numpy_iterator(),\n",
        "):\n",
        "\n",
        "  opt_repl, loss_repl, update_rng_repl = update_fn_repl(\n",
        "      opt_repl, flax.jax_utils.replicate(step), batch, update_rng_repl)\n",
        "  losses.append(loss_repl[0])\n",
        "  lrs.append(lr_fn(step))\n",
        "\n",
        "plt.plot(losses)\n",
        "plt.figure()\n",
        "plt.plot(lrs)"
      ],
      "metadata": {
        "colab": {
          "base_uri": "https://localhost:8080/",
          "height": 549
        },
        "id": "S4SToNHUcf5U",
        "outputId": "a9fbc604-e4da-4b5e-efaa-76c42d23c66f"
      },
      "execution_count": null,
      "outputs": [
        {
          "output_type": "stream",
          "name": "stderr",
          "text": [
            "100%|██████████| 100/100 [53:53<00:00, 32.33s/it]\n"
          ]
        },
        {
          "output_type": "execute_result",
          "data": {
            "text/plain": [
              "[<matplotlib.lines.Line2D at 0x7f1278b6b090>]"
            ]
          },
          "metadata": {},
          "execution_count": 42
        },
        {
          "output_type": "display_data",
          "data": {
            "image/png": "[encoded data removed]",
            "text/plain": [
              "<Figure size 432x288 with 1 Axes>"
            ]
          },
          "metadata": {
            "needs_background": "light"
          }
        },
        {
          "output_type": "display_data",
          "data": {
            "image/png": "[encoded data removed]",
            "text/plain": [
              "<Figure size 432x288 with 1 Axes>"
            ]
          },
          "metadata": {
            "needs_background": "light"
          }
        }
      ]
    },
    {
      "cell_type": "code",
      "source": [
        "# This is performance of ViT-L_16 on Emotion Detection\n",
        "get_accuracy(opt_repl.target)"
      ],
      "metadata": {
        "colab": {
          "base_uri": "https://localhost:8080/"
        },
        "id": "q9P10c_acjNV",
        "outputId": "27e70f0b-636e-4905-945f-9be1d36bfc44"
      },
      "execution_count": null,
      "outputs": [
        {
          "output_type": "stream",
          "name": "stderr",
          "text": [
            "100%|██████████| 14/14 [02:05<00:00,  8.94s/it]\n"
          ]
        },
        {
          "output_type": "execute_result",
          "data": {
            "text/plain": [
              "(DeviceArray(0.5948661, dtype=float32), DeviceArray(4264, dtype=int32), 7168)"
            ]
          },
          "metadata": {},
          "execution_count": 43
        }
      ]
    }
  ]
}